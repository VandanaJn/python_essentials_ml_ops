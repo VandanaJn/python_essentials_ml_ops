{
 "cells": [
  {
   "cell_type": "markdown",
   "id": "1a07ca5f",
   "metadata": {},
   "source": [
    "This is mark down."
   ]
  },
  {
   "cell_type": "code",
   "execution_count": 30,
   "id": "44b44ad2",
   "metadata": {},
   "outputs": [],
   "source": [
    "import pandas as pd\n",
    "import matplotlib.pyplot as plt\n",
    "\n",
    "data = {\n",
    "    \"Name\": [\"Bob\", \"Alice\", \"Charlie\", \"Allen\"],\n",
    "    \"Grade\": [\"10\", \"10\", \"11\", \"10\"],\n",
    "    \"EnglishScore\": [90, 85, 81, 81],\n",
    "    \"MathScore\": [88, 95, 95, None]\n",
    "    \n",
    "}\n",
    "\n",
    "df = pd.DataFrame(data)\n",
    "df.set_index(\"Name\", inplace=True)"
   ]
  },
  {
   "cell_type": "code",
   "execution_count": 35,
   "id": "a6c76b23",
   "metadata": {},
   "outputs": [
    {
     "name": "stdout",
     "output_type": "stream",
     "text": [
      "<class 'pandas.core.frame.DataFrame'>\n",
      "Index: 4 entries, Bob to Allen\n",
      "Data columns (total 3 columns):\n",
      " #   Column        Non-Null Count  Dtype  \n",
      "---  ------        --------------  -----  \n",
      " 0   Grade         4 non-null      object \n",
      " 1   EnglishScore  4 non-null      int64  \n",
      " 2   MathScore     3 non-null      float64\n",
      "dtypes: float64(1), int64(1), object(1)\n",
      "memory usage: 128.0+ bytes\n",
      "None\n"
     ]
    }
   ],
   "source": [
    "print(df.info())"
   ]
  },
  {
   "cell_type": "code",
   "execution_count": 36,
   "id": "a512d614",
   "metadata": {},
   "outputs": [
    {
     "data": {
      "text/html": [
       "<div>\n",
       "<style scoped>\n",
       "    .dataframe tbody tr th:only-of-type {\n",
       "        vertical-align: middle;\n",
       "    }\n",
       "\n",
       "    .dataframe tbody tr th {\n",
       "        vertical-align: top;\n",
       "    }\n",
       "\n",
       "    .dataframe thead th {\n",
       "        text-align: right;\n",
       "    }\n",
       "</style>\n",
       "<table border=\"1\" class=\"dataframe\">\n",
       "  <thead>\n",
       "    <tr style=\"text-align: right;\">\n",
       "      <th></th>\n",
       "      <th>EnglishScore</th>\n",
       "      <th>MathScore</th>\n",
       "    </tr>\n",
       "  </thead>\n",
       "  <tbody>\n",
       "    <tr>\n",
       "      <th>count</th>\n",
       "      <td>4.000000</td>\n",
       "      <td>3.000000</td>\n",
       "    </tr>\n",
       "    <tr>\n",
       "      <th>mean</th>\n",
       "      <td>84.250000</td>\n",
       "      <td>92.666667</td>\n",
       "    </tr>\n",
       "    <tr>\n",
       "      <th>std</th>\n",
       "      <td>4.272002</td>\n",
       "      <td>4.041452</td>\n",
       "    </tr>\n",
       "    <tr>\n",
       "      <th>min</th>\n",
       "      <td>81.000000</td>\n",
       "      <td>88.000000</td>\n",
       "    </tr>\n",
       "    <tr>\n",
       "      <th>25%</th>\n",
       "      <td>81.000000</td>\n",
       "      <td>91.500000</td>\n",
       "    </tr>\n",
       "    <tr>\n",
       "      <th>50%</th>\n",
       "      <td>83.000000</td>\n",
       "      <td>95.000000</td>\n",
       "    </tr>\n",
       "    <tr>\n",
       "      <th>75%</th>\n",
       "      <td>86.250000</td>\n",
       "      <td>95.000000</td>\n",
       "    </tr>\n",
       "    <tr>\n",
       "      <th>max</th>\n",
       "      <td>90.000000</td>\n",
       "      <td>95.000000</td>\n",
       "    </tr>\n",
       "  </tbody>\n",
       "</table>\n",
       "</div>"
      ],
      "text/plain": [
       "       EnglishScore  MathScore\n",
       "count      4.000000   3.000000\n",
       "mean      84.250000  92.666667\n",
       "std        4.272002   4.041452\n",
       "min       81.000000  88.000000\n",
       "25%       81.000000  91.500000\n",
       "50%       83.000000  95.000000\n",
       "75%       86.250000  95.000000\n",
       "max       90.000000  95.000000"
      ]
     },
     "execution_count": 36,
     "metadata": {},
     "output_type": "execute_result"
    }
   ],
   "source": [
    "df.describe()"
   ]
  },
  {
   "cell_type": "code",
   "execution_count": null,
   "id": "d9dcad4b",
   "metadata": {},
   "outputs": [],
   "source": [
    "df[\"EnglishScore\"].plot.hist()\n",
    "plt.title(\"English score distribution\")\n",
    "plt.xlabel(\"English score\")\n",
    "plt.ylabel(\"Frequency\")"
   ]
  },
  {
   "cell_type": "code",
   "execution_count": null,
   "id": "a3608312",
   "metadata": {},
   "outputs": [],
   "source": [
    "fig, axis=plt.subplots(1,2,figsize=(10,4))\n",
    "df[\"MathScore\"].plot.hist(ax=axis[0])\n",
    "df[\"EnglishScore\"].plot.hist(ax=axis[1])"
   ]
  },
  {
   "cell_type": "code",
   "execution_count": null,
   "id": "7a2af97a",
   "metadata": {},
   "outputs": [],
   "source": [
    "print(df.groupby(by=\"Grade\")[\"MathScore\"].agg([\"max\",\"min\"]))"
   ]
  },
  {
   "cell_type": "code",
   "execution_count": null,
   "id": "a1470ea7",
   "metadata": {},
   "outputs": [],
   "source": [
    "print(df.sort_index(axis=1))"
   ]
  },
  {
   "cell_type": "code",
   "execution_count": 33,
   "id": "b1c2afb7",
   "metadata": {},
   "outputs": [
    {
     "name": "stdout",
     "output_type": "stream",
     "text": [
      "        Grade  EnglishScore  MathScore\n",
      "Name                                  \n",
      "Bob        10            90       88.0\n",
      "Alice      10            85       95.0\n",
      "Allen      10            81        NaN\n",
      "Charlie    11            81       95.0\n"
     ]
    }
   ],
   "source": [
    "print(df.sort_values(by=\"Grade\"))"
   ]
  },
  {
   "cell_type": "code",
   "execution_count": 34,
   "id": "18c14458",
   "metadata": {},
   "outputs": [
    {
     "name": "stdout",
     "output_type": "stream",
     "text": [
      "        Grade  EnglishScore  MathScore\n",
      "Name                                  \n",
      "Allen      10            81        NaN\n",
      "Bob        10            90       88.0\n",
      "Charlie    11            81       95.0\n",
      "Alice      10            85       95.0\n"
     ]
    }
   ],
   "source": [
    "print(df.sort_values(by=[\"MathScore\",\"EnglishScore\"],\\\n",
    "                     ascending=[True, True],na_position=\"first\"))"
   ]
  },
  {
   "cell_type": "code",
   "execution_count": 40,
   "id": "9eb5cd57",
   "metadata": {},
   "outputs": [
    {
     "name": "stdout",
     "output_type": "stream",
     "text": [
      "      Grade  EnglishScore  MathScore\n",
      "Name                                \n",
      "Bob      10            90       88.0\n",
      "Alice    10            85       95.0\n",
      "Allen    10            81        NaN\n"
     ]
    }
   ],
   "source": [
    "print(df[df[\"Grade\"]==\"10\"])"
   ]
  },
  {
   "cell_type": "code",
   "execution_count": 41,
   "id": "5fd3a921",
   "metadata": {},
   "outputs": [
    {
     "name": "stdout",
     "output_type": "stream",
     "text": [
      "      Grade  EnglishScore  MathScore\n",
      "Bob      10            90       88.0\n",
      "Alice    10            85       95.0\n"
     ]
    }
   ],
   "source": [
    "print(df.filter(items=[\"Bob\",\"Alice\"], axis=0))"
   ]
  },
  {
   "cell_type": "code",
   "execution_count": 42,
   "id": "06b28ebf",
   "metadata": {},
   "outputs": [
    {
     "name": "stdout",
     "output_type": "stream",
     "text": [
      "        Grade  MathScore\n",
      "Name                    \n",
      "Bob        10       88.0\n",
      "Alice      10       95.0\n",
      "Charlie    11       95.0\n",
      "Allen      10        NaN\n"
     ]
    }
   ],
   "source": [
    "print(df.filter(items=[\"Grade\",\"MathScore\"], axis=1))"
   ]
  },
  {
   "cell_type": "code",
   "execution_count": 43,
   "id": "4c534083",
   "metadata": {},
   "outputs": [
    {
     "name": "stdout",
     "output_type": "stream",
     "text": [
      "        Grade  EnglishScore  MathScore\n",
      "Name                                  \n",
      "Alice      10            85       95.0\n",
      "Charlie    11            81       95.0\n"
     ]
    }
   ],
   "source": [
    "print(df[df[\"MathScore\"]==95])"
   ]
  },
  {
   "cell_type": "code",
   "execution_count": 44,
   "id": "7e7048f0",
   "metadata": {},
   "outputs": [],
   "source": [
    "df[df[\"MathScore\"]==95].to_csv(\"high_math_score.csv\")"
   ]
  }
 ],
 "metadata": {
  "kernelspec": {
   "display_name": ".venv",
   "language": "python",
   "name": "python3"
  },
  "language_info": {
   "codemirror_mode": {
    "name": "ipython",
    "version": 3
   },
   "file_extension": ".py",
   "mimetype": "text/x-python",
   "name": "python",
   "nbconvert_exporter": "python",
   "pygments_lexer": "ipython3",
   "version": "3.13.5"
  }
 },
 "nbformat": 4,
 "nbformat_minor": 5
}
