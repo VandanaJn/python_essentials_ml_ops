{
 "cells": [
  {
   "cell_type": "markdown",
   "id": "1a07ca5f",
   "metadata": {},
   "source": [
    "This is mark down."
   ]
  },
  {
   "cell_type": "code",
   "execution_count": 36,
   "id": "44b44ad2",
   "metadata": {},
   "outputs": [],
   "source": [
    "import pandas as pd\n",
    "import matplotlib.pyplot as plt\n",
    "\n",
    "data = {\n",
    "    \"name\": [\"Bob\", \"Alice\", \"Charlie\", \"Allen\"],\n",
    "    \"grade_level\": [10, 10, 11, 10],\n",
    "    \"english_score\": [90, 85, 81, 81],\n",
    "    \"math_score\": [100, 95, 95, 70]\n",
    "    \n",
    "}\n",
    "\n",
    "df = pd.DataFrame(data)\n",
    "df.set_index(\"name\", inplace=True)"
   ]
  },
  {
   "cell_type": "code",
   "execution_count": null,
   "id": "a6c76b23",
   "metadata": {},
   "outputs": [],
   "source": [
    "print(df.info())"
   ]
  },
  {
   "cell_type": "code",
   "execution_count": null,
   "id": "a512d614",
   "metadata": {},
   "outputs": [],
   "source": [
    "df.describe()"
   ]
  },
  {
   "cell_type": "code",
   "execution_count": null,
   "id": "f3db7443",
   "metadata": {},
   "outputs": [],
   "source": [
    "#filter row\n",
    "df[df[\"english_score\"]==90]"
   ]
  },
  {
   "cell_type": "code",
   "execution_count": null,
   "id": "eeb3a317",
   "metadata": {},
   "outputs": [],
   "source": [
    "df.query(\"grade_level==10 &  name.str.contains('A', na=False)\")"
   ]
  },
  {
   "cell_type": "code",
   "execution_count": 37,
   "id": "c9511d0d",
   "metadata": {},
   "outputs": [
    {
     "data": {
      "text/html": [
       "<div>\n",
       "<style scoped>\n",
       "    .dataframe tbody tr th:only-of-type {\n",
       "        vertical-align: middle;\n",
       "    }\n",
       "\n",
       "    .dataframe tbody tr th {\n",
       "        vertical-align: top;\n",
       "    }\n",
       "\n",
       "    .dataframe thead th {\n",
       "        text-align: right;\n",
       "    }\n",
       "</style>\n",
       "<table border=\"1\" class=\"dataframe\">\n",
       "  <thead>\n",
       "    <tr style=\"text-align: right;\">\n",
       "      <th></th>\n",
       "      <th>grade_level</th>\n",
       "      <th>english_score</th>\n",
       "      <th>math_score</th>\n",
       "      <th>score_grade</th>\n",
       "    </tr>\n",
       "    <tr>\n",
       "      <th>name</th>\n",
       "      <th></th>\n",
       "      <th></th>\n",
       "      <th></th>\n",
       "      <th></th>\n",
       "    </tr>\n",
       "  </thead>\n",
       "  <tbody>\n",
       "    <tr>\n",
       "      <th>Bob</th>\n",
       "      <td>10</td>\n",
       "      <td>90</td>\n",
       "      <td>100</td>\n",
       "      <td>A+</td>\n",
       "    </tr>\n",
       "    <tr>\n",
       "      <th>Alice</th>\n",
       "      <td>10</td>\n",
       "      <td>85</td>\n",
       "      <td>95</td>\n",
       "      <td>A</td>\n",
       "    </tr>\n",
       "    <tr>\n",
       "      <th>Charlie</th>\n",
       "      <td>11</td>\n",
       "      <td>81</td>\n",
       "      <td>95</td>\n",
       "      <td>A</td>\n",
       "    </tr>\n",
       "    <tr>\n",
       "      <th>Allen</th>\n",
       "      <td>10</td>\n",
       "      <td>81</td>\n",
       "      <td>70</td>\n",
       "      <td>B</td>\n",
       "    </tr>\n",
       "  </tbody>\n",
       "</table>\n",
       "</div>"
      ],
      "text/plain": [
       "         grade_level  english_score  math_score score_grade\n",
       "name                                                       \n",
       "Bob               10             90         100          A+\n",
       "Alice             10             85          95           A\n",
       "Charlie           11             81          95           A\n",
       "Allen             10             81          70           B"
      ]
     },
     "execution_count": 37,
     "metadata": {},
     "output_type": "execute_result"
    }
   ],
   "source": [
    "def cal_grade(row):\n",
    "    value=(\n",
    "        row[\"math_score\"]+row[\"english_score\"])/2\n",
    "    if value>=95:\n",
    "        return \"A+\"\n",
    "    if value >=85:\n",
    "        return \"A\"\n",
    "    if value>=65:\n",
    "        return \"B\"\n",
    "    return \"F\"\n",
    "df[\"score_grade\"]=df.apply(cal_grade, axis=1)\n",
    "df"
   ]
  },
  {
   "cell_type": "code",
   "execution_count": 38,
   "id": "ea9bfc4b",
   "metadata": {},
   "outputs": [
    {
     "name": "stdout",
     "output_type": "stream",
     "text": [
      "name\n",
      "Bob          High\n",
      "Alice        High\n",
      "Charlie      High\n",
      "Allen      Medium\n",
      "Name: score_grade, dtype: object\n"
     ]
    }
   ],
   "source": [
    "print(df[\"score_grade\"].replace({\"A\":\"High\",\"A+\":\"High\",\"B\":\"Medium\",\"F\":\"low\"}))"
   ]
  },
  {
   "cell_type": "code",
   "execution_count": null,
   "id": "d9dcad4b",
   "metadata": {},
   "outputs": [],
   "source": [
    "df[\"english_score\"].plot.hist()\n",
    "plt.title(\"English score distribution\")\n",
    "plt.xlabel(\"English score\")\n",
    "plt.ylabel(\"Frequency\")"
   ]
  },
  {
   "cell_type": "code",
   "execution_count": null,
   "id": "a3608312",
   "metadata": {},
   "outputs": [],
   "source": [
    "fig, axis=plt.subplots(1,2,figsize=(10,4))\n",
    "df[\"math_score\"].plot.hist(ax=axis[0])\n",
    "df[\"english_score\"].plot.hist(ax=axis[1])"
   ]
  },
  {
   "cell_type": "code",
   "execution_count": null,
   "id": "7a2af97a",
   "metadata": {},
   "outputs": [],
   "source": [
    "print(df.groupby(by=\"grade_level\")[\"math_score\"].agg([\"max\",\"min\"]))"
   ]
  },
  {
   "cell_type": "code",
   "execution_count": null,
   "id": "a1470ea7",
   "metadata": {},
   "outputs": [],
   "source": [
    "print(df.sort_index(axis=1))"
   ]
  },
  {
   "cell_type": "code",
   "execution_count": null,
   "id": "b1c2afb7",
   "metadata": {},
   "outputs": [],
   "source": [
    "print(df.sort_values(by=\"grade_level\"))"
   ]
  },
  {
   "cell_type": "code",
   "execution_count": null,
   "id": "18c14458",
   "metadata": {},
   "outputs": [],
   "source": [
    "print(df.sort_values(by=[\"math_score\",\"english_score\"],\\\n",
    "                     ascending=[True, True],na_position=\"first\"))"
   ]
  },
  {
   "cell_type": "code",
   "execution_count": null,
   "id": "9eb5cd57",
   "metadata": {},
   "outputs": [],
   "source": [
    "print(df[df[\"grade_level\"]==\"10\"])"
   ]
  },
  {
   "cell_type": "code",
   "execution_count": null,
   "id": "5fd3a921",
   "metadata": {},
   "outputs": [],
   "source": [
    "print(df.filter(items=[\"Bob\",\"Alice\"], axis=0))"
   ]
  },
  {
   "cell_type": "code",
   "execution_count": null,
   "id": "06b28ebf",
   "metadata": {},
   "outputs": [],
   "source": [
    "print(df.filter(items=[\"grade_level\",\"math_score\"], axis=1))"
   ]
  },
  {
   "cell_type": "code",
   "execution_count": null,
   "id": "4c534083",
   "metadata": {},
   "outputs": [],
   "source": [
    "print(df[df[\"math_score\"]==95])"
   ]
  },
  {
   "cell_type": "code",
   "execution_count": null,
   "id": "7e7048f0",
   "metadata": {},
   "outputs": [],
   "source": [
    "df[df[\"math_score\"]==95].to_csv(\"high_math_score.csv\")"
   ]
  },
  {
   "cell_type": "code",
   "execution_count": 39,
   "id": "b142bda0",
   "metadata": {},
   "outputs": [
    {
     "data": {
      "text/plain": [
       "<Axes: xlabel='math_score', ylabel='english_score'>"
      ]
     },
     "execution_count": 39,
     "metadata": {},
     "output_type": "execute_result"
    },
    {
     "data": {
      "image/png": "[encoded data removed]",
      "text/plain": [
       "<Figure size 640x480 with 1 Axes>"
      ]
     },
     "metadata": {},
     "output_type": "display_data"
    }
   ],
   "source": [
    "df.plot.scatter(x=\"math_score\", y=\"english_score\")\n"
   ]
  }
 ],
 "metadata": {
  "kernelspec": {
   "display_name": ".venv",
   "language": "python",
   "name": "python3"
  },
  "language_info": {
   "codemirror_mode": {
    "name": "ipython",
    "version": 3
   },
   "file_extension": ".py",
   "mimetype": "text/x-python",
   "name": "python",
   "nbconvert_exporter": "python",
   "pygments_lexer": "ipython3",
   "version": "3.13.5"
  }
 },
 "nbformat": 4,
 "nbformat_minor": 5
}
