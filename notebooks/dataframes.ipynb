{
 "cells": [
  {
   "cell_type": "code",
   "execution_count": 2,
   "id": "fc86f387",
   "metadata": {},
   "outputs": [
    {
     "name": "stdout",
     "output_type": "stream",
     "text": [
      "   StudentID FirstName LastName  Grade                      Email Enrolled  \\\n",
      "0       1001     Alice  Johnson     10  alice.johnson@example.com      Yes   \n",
      "\n",
      "   MathScore  ScienceScore  \n",
      "0       88.8          92.4  \n"
     ]
    }
   ],
   "source": [
    "import pandas as pd\n",
    "\n",
    "frame = pd.read_csv(\"..\\students.csv\")\n",
    "print(frame.head(1))\n"
   ]
  },
  {
   "cell_type": "code",
   "execution_count": 3,
   "id": "efbdae93",
   "metadata": {},
   "outputs": [
    {
     "name": "stdout",
     "output_type": "stream",
     "text": [
      "(8, 8)\n"
     ]
    }
   ],
   "source": [
    "print(frame.shape)"
   ]
  },
  {
   "cell_type": "code",
   "execution_count": 15,
   "id": "73acc85e",
   "metadata": {},
   "outputs": [
    {
     "name": "stdout",
     "output_type": "stream",
     "text": [
      "   StudentID FirstName  LastName  Grade                       Email Enrolled  \\\n",
      "0       1001     Alice   Johnson     10   alice.johnson@example.com      Yes   \n",
      "1       1002       Bob     Smith     11       bob.smith@example.com      Yes   \n",
      "2       1003   Charlie  Williams     10     charlie.lee@example.com       No   \n",
      "3       1004     Diana    Garcia     12    diana.garcia@example.com      Yes   \n",
      "4       1005     Ethan  Martinez      9  ethan.martinez@example.com      Yes   \n",
      "5       1006     Fiona  Williams     11  fiona.williams@example.com       No   \n",
      "6       1007     Zeeja     Davis     12    george.brown@example.com      Yes   \n",
      "7       1008    Hannah     Davis      9    hannah.davis@example.com      Yes   \n",
      "\n",
      "   MathScore  ScienceScore  total  TotalScore  \n",
      "0       88.8          92.4  181.2       181.2  \n",
      "1       75.2          85.0  160.2       160.2  \n",
      "2       90.9          78.0  168.9       168.9  \n",
      "3       95.0          89.0  184.0       184.0  \n",
      "4       82.0          84.0  166.0       166.0  \n",
      "5       70.0          73.0  143.0       143.0  \n",
      "6       88.0          91.0  179.0       179.0  \n",
      "7       93.0          90.0  183.0       183.0  \n"
     ]
    }
   ],
   "source": [
    "def total(row):\n",
    "    return row[\"MathScore\"]+row[\"ScienceScore\"]\n",
    "\n",
    "frame[\"TotalScore\"] = frame.apply(total, axis=1)\n",
    "print(frame)"
   ]
  },
  {
   "cell_type": "code",
   "execution_count": 19,
   "id": "970df738",
   "metadata": {},
   "outputs": [
    {
     "data": {
      "text/html": [
       "<div>\n",
       "<style scoped>\n",
       "    .dataframe tbody tr th:only-of-type {\n",
       "        vertical-align: middle;\n",
       "    }\n",
       "\n",
       "    .dataframe tbody tr th {\n",
       "        vertical-align: top;\n",
       "    }\n",
       "\n",
       "    .dataframe thead th {\n",
       "        text-align: right;\n",
       "    }\n",
       "</style>\n",
       "<table border=\"1\" class=\"dataframe\">\n",
       "  <thead>\n",
       "    <tr style=\"text-align: right;\">\n",
       "      <th></th>\n",
       "      <th>max</th>\n",
       "      <th>min</th>\n",
       "      <th>mean</th>\n",
       "    </tr>\n",
       "    <tr>\n",
       "      <th>Grade</th>\n",
       "      <th></th>\n",
       "      <th></th>\n",
       "      <th></th>\n",
       "    </tr>\n",
       "  </thead>\n",
       "  <tbody>\n",
       "    <tr>\n",
       "      <th>9</th>\n",
       "      <td>183.0</td>\n",
       "      <td>166.0</td>\n",
       "      <td>174.50</td>\n",
       "    </tr>\n",
       "    <tr>\n",
       "      <th>10</th>\n",
       "      <td>181.2</td>\n",
       "      <td>168.9</td>\n",
       "      <td>175.05</td>\n",
       "    </tr>\n",
       "    <tr>\n",
       "      <th>11</th>\n",
       "      <td>160.2</td>\n",
       "      <td>143.0</td>\n",
       "      <td>151.60</td>\n",
       "    </tr>\n",
       "    <tr>\n",
       "      <th>12</th>\n",
       "      <td>184.0</td>\n",
       "      <td>179.0</td>\n",
       "      <td>181.50</td>\n",
       "    </tr>\n",
       "  </tbody>\n",
       "</table>\n",
       "</div>"
      ],
      "text/plain": [
       "         max    min    mean\n",
       "Grade                      \n",
       "9      183.0  166.0  174.50\n",
       "10     181.2  168.9  175.05\n",
       "11     160.2  143.0  151.60\n",
       "12     184.0  179.0  181.50"
      ]
     },
     "execution_count": 19,
     "metadata": {},
     "output_type": "execute_result"
    }
   ],
   "source": [
    "frame.groupby(by=\"Grade\")[\"TotalScore\"].agg([\"max\",\"min\",\"mean\"])"
   ]
  },
  {
   "cell_type": "code",
   "execution_count": 21,
   "id": "e50735b0",
   "metadata": {},
   "outputs": [
    {
     "data": {
      "text/html": [
       "<div>\n",
       "<style scoped>\n",
       "    .dataframe tbody tr th:only-of-type {\n",
       "        vertical-align: middle;\n",
       "    }\n",
       "\n",
       "    .dataframe tbody tr th {\n",
       "        vertical-align: top;\n",
       "    }\n",
       "\n",
       "    .dataframe thead th {\n",
       "        text-align: right;\n",
       "    }\n",
       "</style>\n",
       "<table border=\"1\" class=\"dataframe\">\n",
       "  <thead>\n",
       "    <tr style=\"text-align: right;\">\n",
       "      <th></th>\n",
       "      <th>MathScore</th>\n",
       "      <th>ScienceScore</th>\n",
       "    </tr>\n",
       "  </thead>\n",
       "  <tbody>\n",
       "    <tr>\n",
       "      <th>0</th>\n",
       "      <td>89.0</td>\n",
       "      <td>92.0</td>\n",
       "    </tr>\n",
       "    <tr>\n",
       "      <th>1</th>\n",
       "      <td>75.0</td>\n",
       "      <td>85.0</td>\n",
       "    </tr>\n",
       "    <tr>\n",
       "      <th>2</th>\n",
       "      <td>91.0</td>\n",
       "      <td>78.0</td>\n",
       "    </tr>\n",
       "    <tr>\n",
       "      <th>3</th>\n",
       "      <td>95.0</td>\n",
       "      <td>89.0</td>\n",
       "    </tr>\n",
       "    <tr>\n",
       "      <th>4</th>\n",
       "      <td>82.0</td>\n",
       "      <td>84.0</td>\n",
       "    </tr>\n",
       "    <tr>\n",
       "      <th>5</th>\n",
       "      <td>70.0</td>\n",
       "      <td>73.0</td>\n",
       "    </tr>\n",
       "    <tr>\n",
       "      <th>6</th>\n",
       "      <td>88.0</td>\n",
       "      <td>91.0</td>\n",
       "    </tr>\n",
       "    <tr>\n",
       "      <th>7</th>\n",
       "      <td>93.0</td>\n",
       "      <td>90.0</td>\n",
       "    </tr>\n",
       "  </tbody>\n",
       "</table>\n",
       "</div>"
      ],
      "text/plain": [
       "   MathScore  ScienceScore\n",
       "0       89.0          92.0\n",
       "1       75.0          85.0\n",
       "2       91.0          78.0\n",
       "3       95.0          89.0\n",
       "4       82.0          84.0\n",
       "5       70.0          73.0\n",
       "6       88.0          91.0\n",
       "7       93.0          90.0"
      ]
     },
     "execution_count": 21,
     "metadata": {},
     "output_type": "execute_result"
    }
   ],
   "source": [
    "frame[[\"MathScore\",\"ScienceScore\"]].apply(pd.Series.round)"
   ]
  }
 ],
 "metadata": {
  "kernelspec": {
   "display_name": ".venv",
   "language": "python",
   "name": "python3"
  },
  "language_info": {
   "codemirror_mode": {
    "name": "ipython",
    "version": 3
   },
   "file_extension": ".py",
   "mimetype": "text/x-python",
   "name": "python",
   "nbconvert_exporter": "python",
   "pygments_lexer": "ipython3",
   "version": "3.13.5"
  }
 },
 "nbformat": 4,
 "nbformat_minor": 5
}
