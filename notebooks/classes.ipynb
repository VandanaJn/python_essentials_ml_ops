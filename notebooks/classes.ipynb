{
 "cells": [
  {
   "cell_type": "code",
   "execution_count": 1,
   "id": "80d3daa4",
   "metadata": {},
   "outputs": [],
   "source": [
    "class Dog:\n",
    "    is_Animal = True\n",
    "\n",
    "    def __init__(self):\n",
    "        self.color = \"white\"\n",
    "\n",
    "    def bark(self):  \n",
    "        print(\"woof!\")"
   ]
  },
  {
   "cell_type": "code",
   "execution_count": 2,
   "id": "47d2f402",
   "metadata": {},
   "outputs": [
    {
     "name": "stdout",
     "output_type": "stream",
     "text": [
      "False\n",
      "True\n"
     ]
    }
   ],
   "source": [
    "d = Dog()\n",
    "a = Dog()\n",
    "a.is_Animal = False\n",
    "print(a.is_Animal)\n",
    "print(d.is_Animal)\n"
   ]
  },
  {
   "cell_type": "code",
   "execution_count": 3,
   "id": "9269ccc5",
   "metadata": {},
   "outputs": [
    {
     "name": "stdout",
     "output_type": "stream",
     "text": [
      "False\n"
     ]
    }
   ],
   "source": [
    "Dog.is_Animal = False\n",
    "c=Dog()\n",
    "print(c.is_Animal)#became False by default\n"
   ]
  },
  {
   "cell_type": "code",
   "execution_count": 4,
   "id": "176a5074",
   "metadata": {},
   "outputs": [],
   "source": [
    "from dataclasses import dataclass\n",
    "# dataclass gives many boiler plate methods line init, eq, hash etc\n",
    "\n",
    "@dataclass\n",
    "class Student:\n",
    "    name: str\n",
    "    age: int\n",
    "    grade: int\n",
    "\n",
    "    def __eq__(self, other):\n",
    "        if isinstance(other, Student):\n",
    "            return (\n",
    "                self.name == other.name\n",
    "                and self.age == other.age\n",
    "                and self.grade == other.grade\n",
    "            )\n",
    "        return False\n",
    "\n",
    "    def __call__(self):\n",
    "        return self.name\n",
    "\n",
    "\n"
   ]
  },
  {
   "cell_type": "code",
   "execution_count": 5,
   "id": "55e6f62a",
   "metadata": {},
   "outputs": [
    {
     "name": "stdout",
     "output_type": "stream",
     "text": [
      "s1.__eq__(s2) True\n",
      "s1.__eq__(s3) False\n",
      "Student(name='Alice', age=16, grade=10)\n",
      "Alice\n",
      "Alice\n"
     ]
    }
   ],
   "source": [
    "# dataclass gives many boiler plate methods line init, eq, hash etc\n",
    "\n",
    "s1 = Student(name=\"Alice\", age=16, grade=10)\n",
    "s2 = Student(name=\"Alice\", age=16, grade=10)\n",
    "s3 = Student(name=\"Alice\", age=16, grade=11)\n",
    "print(\"s1.__eq__(s2)\", s1.__eq__(s2))\n",
    "print(\"s1.__eq__(s3)\", s1.__eq__(s3))\n",
    "print(s1.__str__())\n",
    "print(s1.__call__())\n",
    "print(s1())  # can call object like a function, calls __call__"
   ]
  },
  {
   "cell_type": "code",
   "execution_count": 6,
   "id": "40ec9996",
   "metadata": {},
   "outputs": [],
   "source": [
    "class Reverse:\n",
    "    \"\"\"Iterator for looping over a sequence backwards.\"\"\"\n",
    "\n",
    "    def __init__(self, data):\n",
    "        self.data = data\n",
    "        self.index = len(data)\n",
    "\n",
    "    def __iter__(self):\n",
    "        return self\n",
    "\n",
    "    def __next__(self):\n",
    "        if self.index == 0:\n",
    "            raise StopIteration\n",
    "        self.index = self.index - 1\n",
    "        return self.data[self.index]\n",
    "    "
   ]
  },
  {
   "cell_type": "code",
   "execution_count": 7,
   "id": "52046d82",
   "metadata": {},
   "outputs": [
    {
     "name": "stdout",
     "output_type": "stream",
     "text": [
      "r\n",
      "e\n",
      "v\n",
      "i\n",
      "r\n",
      "{'data': 'river', 'index': 0}\n"
     ]
    }
   ],
   "source": [
    "r = Reverse(\"river\")\n",
    "for c in r:\n",
    "    print(c)\n",
    "\n",
    "print(r.__dict__)"
   ]
  },
  {
   "cell_type": "code",
   "execution_count": 8,
   "id": "cc5b21ca",
   "metadata": {},
   "outputs": [
    {
     "name": "stdout",
     "output_type": "stream",
     "text": [
      "base method1\n",
      "base method1\n",
      "base method1\n",
      "subclass method1\n"
     ]
    }
   ],
   "source": [
    "class Base:\n",
    "    def __init__(self):\n",
    "        self.__method1()\n",
    "\n",
    "    def method1(self):\n",
    "        print(\"base method1\")\n",
    "\n",
    "    __method1 = method1  # name mangling\n",
    "\n",
    "\n",
    "class SubClass(Base):\n",
    "    def method1(self):\n",
    "        print(\"subclass method1\")\n",
    "\n",
    "\n",
    "a1 = Base()\n",
    "a2 = SubClass()\n",
    "a1.method1()\n",
    "a2.method1()\n",
    "\n"
   ]
  },
  {
   "cell_type": "code",
   "execution_count": 9,
   "id": "62bb42db",
   "metadata": {},
   "outputs": [
    {
     "name": "stdout",
     "output_type": "stream",
     "text": [
      "A\n",
      "C\n",
      "B\n",
      "D\n",
      "E\n",
      "[<class '__main__.E'>, <class '__main__.D'>, <class '__main__.B'>, <class '__main__.C'>, <class '__main__.A'>, <class 'object'>]\n"
     ]
    }
   ],
   "source": [
    "\n",
    "class A:\n",
    "    def greet(self):\n",
    "        print(\"A\")\n",
    "\n",
    "\n",
    "class B(A):\n",
    "    def greet(self):\n",
    "        super().greet()\n",
    "        print(\"B\")\n",
    "\n",
    "\n",
    "class C(A):\n",
    "    def greet(self):\n",
    "        super().greet()\n",
    "        print(\"C\")\n",
    "\n",
    "\n",
    "class D(B):\n",
    "    def greet(self):\n",
    "        super().greet()\n",
    "        print(\"D\")\n",
    "\n",
    "\n",
    "class E(D, C):\n",
    "    def greet(self):\n",
    "        super().greet()\n",
    "        print(\"E\")\n",
    "\n",
    "\n",
    "E().greet()\n",
    "print(E.mro())  # C3 Linearization"
   ]
  },
  {
   "cell_type": "code",
   "execution_count": 10,
   "id": "9d3f8f58",
   "metadata": {},
   "outputs": [
    {
     "name": "stdout",
     "output_type": "stream",
     "text": [
      "<class 'int'>\n"
     ]
    }
   ],
   "source": [
    "from pydantic import BaseModel\n",
    "\n",
    "\n",
    "class Person(BaseModel):\n",
    "    name: str\n",
    "    age: int\n",
    "\n",
    "    model_config = {\"frozen\": True}\n",
    "\n",
    "\n",
    "p = Person(name=\"Alicia\", age=\"20\")\n",
    "# p.name=\"John\" does not work, gives validation error\n",
    "print(type(p.age))"
   ]
  }
 ],
 "metadata": {
  "kernelspec": {
   "display_name": ".venv",
   "language": "python",
   "name": "python3"
  },
  "language_info": {
   "codemirror_mode": {
    "name": "ipython",
    "version": 3
   },
   "file_extension": ".py",
   "mimetype": "text/x-python",
   "name": "python",
   "nbconvert_exporter": "python",
   "pygments_lexer": "ipython3",
   "version": "3.13.5"
  }
 },
 "nbformat": 4,
 "nbformat_minor": 5
}
