{
 "cells": [
  {
   "cell_type": "code",
   "execution_count": null,
   "id": "361ace91",
   "metadata": {},
   "outputs": [],
   "source": [
    "# 📦 Tuple operations and search function demo\n",
    "\n",
    "# Define the tuple\n",
    "tuple1 = (1, 3, 2, 3, 2, 2)\n",
    "\n",
    "# 🔍 Using index to find the position of elements\n",
    "print(\"Index of 1:\", tuple1.index(1))\n",
    "print(\"Index of 2:\", tuple1.index(2))\n",
    "\n",
    "# ❌ Attempting to find an element not in the tuple (will raise ValueError)\n",
    "try:\n",
    "    print(\"Index of 5:\", tuple1.index(5))\n",
    "except ValueError as e:\n",
    "    print(\"Error:\", e)\n",
    "\n",
    "# 🧮 Counting occurrences of specific elements\n",
    "print(\"Count of 2:\", tuple1.count(2))\n",
    "print(\"Count of 1:\", tuple1.count(1))\n",
    "print(\"Count of 5:\", tuple1.count(5))\n",
    "\n"
   ]
  },
  {
   "cell_type": "code",
   "execution_count": null,
   "id": "90da7040",
   "metadata": {},
   "outputs": [],
   "source": [
    "# 🔎 Define a simple search function to check presence of item in tuple\n",
    "def search(collection: tuple, search_item):\n",
    "    \"\"\"Returns True if search_item is in the tuple, else False.\"\"\"\n",
    "    for item in collection:\n",
    "        if item == search_item:\n",
    "            return True\n",
    "    return False\n",
    "\n",
    "# ✅ Test the search function\n",
    "print(\"Is 3 in tuple1?\", search(tuple1, 3))\n",
    "print(\"Is 7 in tuple1?\", search(tuple1, 7))"
   ]
  }
 ],
 "metadata": {
  "language_info": {
   "name": "python"
  }
 },
 "nbformat": 4,
 "nbformat_minor": 5
}
