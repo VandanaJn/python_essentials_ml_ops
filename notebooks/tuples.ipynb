{
 "cells": [
  {
   "cell_type": "code",
   "execution_count": 1,
   "id": "361ace91",
   "metadata": {},
   "outputs": [
    {
     "name": "stdout",
     "output_type": "stream",
     "text": [
      "Index of 1: 0\n",
      "Index of 2: 2\n",
      "Error: tuple.index(x): x not in tuple\n",
      "Count of 2: 3\n",
      "Count of 1: 1\n",
      "Count of 5: 0\n"
     ]
    }
   ],
   "source": [
    "\n",
    "tuple1 = (1, 3, 2, 3, 2, 2)\n",
    "\n",
    "# Using index to find the position of elements\n",
    "print(\"Index of 1:\", tuple1.index(1))\n",
    "print(\"Index of 2:\", tuple1.index(2))\n",
    "\n",
    "# Attempting to find an element not in the tuple (will raise ValueError)\n",
    "try:\n",
    "    print(\"Index of 5:\", tuple1.index(5))\n",
    "except ValueError as e:\n",
    "    print(\"Error:\", e)\n",
    "\n",
    "# Counting occurrences of specific elements\n",
    "print(\"Count of 2:\", tuple1.count(2))\n",
    "print(\"Count of 1:\", tuple1.count(1))\n",
    "print(\"Count of 5:\", tuple1.count(5))\n",
    "\n"
   ]
  },
  {
   "cell_type": "code",
   "execution_count": 3,
   "id": "90da7040",
   "metadata": {},
   "outputs": [
    {
     "name": "stdout",
     "output_type": "stream",
     "text": [
      "Is 3 in tuple1? True\n",
      "Is 7 in tuple1? False\n"
     ]
    }
   ],
   "source": [
    "# Define a simple search function to check presence of item in tuple\n",
    "def search(collection: tuple, search_item):\n",
    "    \"\"\"Returns True if search_item is in the tuple, else False.\"\"\"\n",
    "    for item in collection:\n",
    "        if item == search_item:\n",
    "            return True\n",
    "    return False\n",
    "\n",
    "# ✅ Test the search function\n",
    "print(\"Is 3 in tuple1?\", search(tuple1, 3))\n",
    "print(\"Is 7 in tuple1?\", search(tuple1, 7))"
   ]
  }
 ],
 "metadata": {
  "kernelspec": {
   "display_name": ".venv",
   "language": "python",
   "name": "python3"
  },
  "language_info": {
   "codemirror_mode": {
    "name": "ipython",
    "version": 3
   },
   "file_extension": ".py",
   "mimetype": "text/x-python",
   "name": "python",
   "nbconvert_exporter": "python",
   "pygments_lexer": "ipython3",
   "version": "3.13.5"
  }
 },
 "nbformat": 4,
 "nbformat_minor": 5
}
