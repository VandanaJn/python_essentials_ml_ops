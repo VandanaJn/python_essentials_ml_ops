{
 "cells": [
  {
   "cell_type": "code",
   "execution_count": 1,
   "id": "7c73e53e",
   "metadata": {},
   "outputs": [
    {
     "name": "stdout",
     "output_type": "stream",
     "text": [
      "0\n",
      "1\n",
      "1\n",
      "2\n",
      "3\n",
      "5\n",
      "8\n",
      "13\n",
      "21\n",
      "34\n"
     ]
    }
   ],
   "source": [
    "def fib():\n",
    "    a, b = 0, 1\n",
    "    while True:\n",
    "        yield a\n",
    "        a, b = b, a + b\n",
    "\n",
    "\n",
    "counter = 1\n",
    "for n in fib():\n",
    "    if counter > 10:\n",
    "        break\n",
    "    print(n)\n",
    "    counter += 1\n"
   ]
  },
  {
   "cell_type": "code",
   "execution_count": 2,
   "id": "2e01e86f",
   "metadata": {},
   "outputs": [
    {
     "name": "stdout",
     "output_type": "stream",
     "text": [
      "list comprehension\n",
      "[2, 4, 6, 8]\n"
     ]
    }
   ],
   "source": [
    "print(\"list comprehension\")\n",
    "even = [\n",
    "    n for n in range(1, 10) if n % 2 == 0\n",
    "]  # list comprehension, eagerly creates list in memory\n",
    "print(even)\n",
    "\n"
   ]
  },
  {
   "cell_type": "code",
   "execution_count": 3,
   "id": "82c582db",
   "metadata": {},
   "outputs": [
    {
     "name": "stdout",
     "output_type": "stream",
     "text": [
      "lazy generation\n",
      "2\n"
     ]
    }
   ],
   "source": [
    "print(\"lazy generation\")\n",
    "even = (n for n in range(1, 10) if n % 2 == 0)  # lazy generation, more memory efficient\n",
    "for it in even:\n",
    "    print(it)\n",
    "    break\n",
    "\n"
   ]
  },
  {
   "cell_type": "code",
   "execution_count": 4,
   "id": "9f4fa2ce",
   "metadata": {},
   "outputs": [
    {
     "name": "stdout",
     "output_type": "stream",
     "text": [
      "reverse\n",
      "4\n",
      "3\n",
      "2\n",
      "1\n"
     ]
    }
   ],
   "source": [
    "\n",
    "def reverse(iterator):\n",
    "    for i in range(len(iterator) - 1, -1, -1):\n",
    "        yield iterator[i]\n",
    "\n",
    "\n",
    "print(\"reverse\")\n",
    "items = reverse([1, 2, 3, 4])\n",
    "for item in items:\n",
    "    print(item)\n",
    "\n",
    "\n"
   ]
  },
  {
   "cell_type": "code",
   "execution_count": 5,
   "id": "8b91e2ce",
   "metadata": {},
   "outputs": [
    {
     "name": "stdout",
     "output_type": "stream",
     "text": [
      "produce_1_10\n",
      "1\n",
      "2\n",
      "3\n",
      "4\n",
      "5\n",
      "6\n",
      "7\n",
      "8\n",
      "9\n",
      "10\n"
     ]
    }
   ],
   "source": [
    "\n",
    "\n",
    "def produce_1_10():\n",
    "    for i in range(1, 11):\n",
    "        yield i\n",
    "\n",
    "\n",
    "print(\"produce_1_10\")\n",
    "r = produce_1_10()\n",
    "for it1 in r:\n",
    "    print(it1)\n",
    "\n",
    "\n"
   ]
  },
  {
   "cell_type": "code",
   "execution_count": 6,
   "id": "25a7ca1a",
   "metadata": {},
   "outputs": [
    {
     "name": "stdout",
     "output_type": "stream",
     "text": [
      "fib1\n",
      "0\n",
      "1\n",
      "1\n",
      "2\n",
      "3\n",
      "5\n",
      "8\n",
      "13\n",
      "21\n",
      "34\n"
     ]
    }
   ],
   "source": [
    "def fib1():\n",
    "    a, b = 0, 1\n",
    "    while True:\n",
    "        yield a\n",
    "        a, b = b, a + b\n",
    "\n",
    "\n",
    "fb = fib1()\n",
    "print(\"fib1\")\n",
    "for _ in range(1, 11):\n",
    "    print(next(fb))\n"
   ]
  },
  {
   "cell_type": "code",
   "execution_count": 7,
   "id": "ded6b566",
   "metadata": {},
   "outputs": [
    {
     "name": "stdout",
     "output_type": "stream",
     "text": [
      "sumofsquares\n",
      "5\n"
     ]
    }
   ],
   "source": [
    "print(\"sumofsquares\")\n",
    "print(sum((n**2 for n in range(1, 3))))\n"
   ]
  },
  {
   "cell_type": "code",
   "execution_count": 8,
   "id": "41568c9f",
   "metadata": {},
   "outputs": [
    {
     "name": "stdout",
     "output_type": "stream",
     "text": [
      "random\n",
      "0.28186548679949897\n",
      "70\n",
      "58\n",
      "8\n",
      "74\n",
      "choice\n",
      "b\n",
      "['b', 'c']\n",
      "['c', 'b']\n"
     ]
    }
   ],
   "source": [
    "print(\"random\")\n",
    "import random\n",
    "\n",
    "r = (random.random() for _ in range(100))\n",
    "print(next(r))\n",
    "r = (random.randint(1, 100) for _ in range(100))\n",
    "print(next(r))\n",
    "r = (random.randrange(2, 100, 2) for _ in range(100))\n",
    "print(next(r))\n",
    "print(next(r))\n",
    "print(next(r))\n",
    "names = [\"a\", \"b\", \"c\", \"d\"]\n",
    "print(\"choice\")\n",
    "print(random.choice(names))\n",
    "print(random.choices(names, k=2))  # can have duplicate\n",
    "print(random.sample(names, k=2))"
   ]
  }
 ],
 "metadata": {
  "kernelspec": {
   "display_name": ".venv",
   "language": "python",
   "name": "python3"
  },
  "language_info": {
   "codemirror_mode": {
    "name": "ipython",
    "version": 3
   },
   "file_extension": ".py",
   "mimetype": "text/x-python",
   "name": "python",
   "nbconvert_exporter": "python",
   "pygments_lexer": "ipython3",
   "version": "3.13.5"
  }
 },
 "nbformat": 4,
 "nbformat_minor": 5
}
