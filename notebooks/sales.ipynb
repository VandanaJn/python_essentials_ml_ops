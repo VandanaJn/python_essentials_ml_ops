{
 "cells": [
  {
   "cell_type": "code",
   "execution_count": null,
   "id": "fc035e39",
   "metadata": {},
   "outputs": [],
   "source": [
    "import pandas as pd\n",
    "\n",
    "data = {\n",
    "    \"date\": [\n",
    "        \"2024-12-01\", \"2024-12-01\", \"2024-12-02\", \"2024-12-02\", \"2024-12-03\", \"2024-12-03\",\n",
    "        \"2024-12-04\", \"2024-12-04\", \"2024-12-05\", \"2024-12-05\"\n",
    "    ],\n",
    "    \"region\": [\n",
    "        \"North\", \"South\", \"North\", \"East\", \"South\", \"West\",\n",
    "        \"East\", \"West\", \"North\", \"South\"\n",
    "    ],\n",
    "    \"sales_rep\": [\n",
    "        \"Alice\", \"Bob\", \"Alice\", \"Charlie\", \"Bob\", \"Dave\",\n",
    "        \"Charlie\", \"Dave\", \"Alice\", \"Bob\"\n",
    "    ],\n",
    "    \"product\": [\n",
    "        \"Laptop\", \"Tablet\", \"Laptop\", \"Laptop\", \"Tablet\", \"Tablet\",\n",
    "        \"Laptop\", \"Tablet\", \"Laptop\", \"Tablet\"\n",
    "    ],\n",
    "    \"units_sold\": [5, 3, 7, 2, 4, 6, 1, 5, 3, 4],\n",
    "    \"unit_price\": [900, 400, 900, 900, 400, 400, 900, 400, 900, 400],\n",
    "    \"discount_rate\":[.5,.2,.1,0,0,.2,.4,.3,.1,0],\n",
    "    \"sales_target\":[2000,2000,5000,5000,2000,2000,5000,5000,5000,2000,]\n",
    "}\n",
    "\n",
    "df = pd.DataFrame(data)\n",
    "df.head()"
   ]
  },
  {
   "cell_type": "code",
   "execution_count": null,
   "id": "d9ef2c94",
   "metadata": {},
   "outputs": [],
   "source": [
    "df[\"revenue\"]=df[\"units_sold\"]*df[\"unit_price\"]*(1-df[\"discount_rate\"])\n",
    "df"
   ]
  },
  {
   "cell_type": "code",
   "execution_count": null,
   "id": "2c09217f",
   "metadata": {},
   "outputs": [],
   "source": [
    "data = {\n",
    "    \"date\": [\n",
    "        \"2024-12-06\", \"2024-12-06\"\n",
    "    ],\n",
    "    \"region\": [\n",
    "        \"North\", \"South\"\n",
    "    ],\n",
    "    \"sales_rep\": [\n",
    "        \"Alice\", \"Bob\", \n",
    "    ],\n",
    "    \"product\": [\n",
    "        \"Tablet\", \"Laptop\", \n",
    "    ],\n",
    "    \"units_sold\": [4, 6 ],\n",
    "    \"unit_price\": [ 400, 900],\n",
    "    \"discount_rate\":[.1,0],\n",
    "    \"sales_target\":[5000,2000]\n",
    "}\n",
    "new_df=pd.DataFrame(data)\n",
    "df=pd.concat([df,new_df], ignore_index=True)\n",
    "# df.drop(df.tail(2).index) removes last 2 rows\n",
    "df"
   ]
  },
  {
   "cell_type": "code",
   "execution_count": null,
   "id": "7281d139",
   "metadata": {},
   "outputs": [],
   "source": [
    "df.loc[df[\"revenue\"].isna(),\"revenue\"]=df[\"units_sold\"]*df[\"unit_price\"]*(1-df[\"discount_rate\"])\n",
    "df"
   ]
  },
  {
   "cell_type": "code",
   "execution_count": null,
   "id": "3d0f0fae",
   "metadata": {},
   "outputs": [],
   "source": [
    "#select only few columns\n",
    "#df.filter([\"date\",\"region\",\"sales_rep\",\"sales_target\",\"revenue\"])\n",
    "df[[\"date\",\"region\",\"sales_rep\",\"sales_target\",\"revenue\"]]"
   ]
  },
  {
   "cell_type": "code",
   "execution_count": null,
   "id": "591cee45",
   "metadata": {},
   "outputs": [],
   "source": [
    "#select only few rows by index\n",
    "print(df.filter(axis=0,items=[1,2]))#gives dataframe\n",
    "# print(df.loc[3])#location by index, which may not be a no\n",
    "# print(df.iloc[4])#location by integer\n"
   ]
  },
  {
   "cell_type": "code",
   "execution_count": null,
   "id": "27197f09",
   "metadata": {},
   "outputs": [],
   "source": [
    "#select only few rows by query\n",
    "df.query(\"region=='South' & product=='Tablet'\")[[\"sales_rep\",\"revenue\"]]"
   ]
  },
  {
   "cell_type": "code",
   "execution_count": null,
   "id": "e34c7d9a",
   "metadata": {
    "vscode": {
     "languageId": "javascript"
    }
   },
   "outputs": [],
   "source": [
    "df[\"year\"] = df[\"date\"].str.split(\"-\").apply(lambda l: l[0])\n",
    "df"
   ]
  },
  {
   "cell_type": "code",
   "execution_count": null,
   "id": "f2be39cb",
   "metadata": {
    "vscode": {
     "languageId": "javascript"
    }
   },
   "outputs": [],
   "source": [
    "df.groupby(by=\"year\")[\"revenue\"].agg(\"sum\")"
   ]
  },
  {
   "cell_type": "code",
   "execution_count": null,
   "id": "c19b4620",
   "metadata": {
    "vscode": {
     "languageId": "javascript"
    }
   },
   "outputs": [],
   "source": [
    "df.groupby(by=[\"region\",\"date\"])[\"revenue\"].agg(\"sum\")"
   ]
  },
  {
   "cell_type": "code",
   "execution_count": null,
   "id": "1dd7992c",
   "metadata": {
    "vscode": {
     "languageId": "javascript"
    }
   },
   "outputs": [],
   "source": [
    "def flag_outlier_iqr(df, column):\n",
    "    q1 = df[column].quantile(0.25)\n",
    "    q3 = df[column].quantile(0.75)\n",
    "    iqr = q3 - q1\n",
    "\n",
    "    lower = q1 - 1.5 * iqr\n",
    "    upper = q3 + 1.5 * iqr\n",
    "    # print(lower)\n",
    "    # print(upper)\n",
    "\n",
    "    return df[column].apply(lambda x:\"outlier\" if  (x < lower or x > upper) else \"normal\")\n",
    "flag_outlier_iqr(df,\"revenue\")"
   ]
  },
  {
   "cell_type": "code",
   "execution_count": null,
   "id": "12304872",
   "metadata": {
    "vscode": {
     "languageId": "javascript"
    }
   },
   "outputs": [],
   "source": [
    "def flag_outlier_zscore(df,column,threshold):\n",
    "    mean=df[column].mean()\n",
    "    std=df[column].std()\n",
    "    print(mean)\n",
    "    print(std)\n",
    "\n",
    "    return df[column].apply(\n",
    "        lambda x: \"Outlier\" if abs((x - mean) / std) > threshold else \"Normal\"\n",
    "    )\n",
    "\n",
    "\n",
    "flag_outlier_zscore(df,\"revenue\",1.5)"
   ]
  },
  {
   "cell_type": "code",
   "execution_count": null,
   "id": "4b3b3fba",
   "metadata": {
    "vscode": {
     "languageId": "javascript"
    }
   },
   "outputs": [],
   "source": [
    "df1=df.reset_index()\n",
    "df1.plot.scatter(x=\"index\",y=\"revenue\")"
   ]
  },
  {
   "cell_type": "code",
   "execution_count": 94,
   "id": "f91653f8",
   "metadata": {
    "vscode": {
     "languageId": "javascript"
    }
   },
   "outputs": [
    {
     "data": {
      "text/plain": [
       "region\n",
       "East     1800.0\n",
       "North    5670.0\n",
       "South    5400.0\n",
       "West     1920.0\n",
       "Name: revenue, dtype: float64"
      ]
     },
     "execution_count": 94,
     "metadata": {},
     "output_type": "execute_result"
    }
   ],
   "source": [
    "df.groupby(by=\"region\")[\"revenue\"].agg(\"max\")"
   ]
  }
 ],
 "metadata": {
  "kernelspec": {
   "display_name": ".venv",
   "language": "python",
   "name": "python3"
  },
  "language_info": {
   "codemirror_mode": {
    "name": "ipython",
    "version": 3
   },
   "file_extension": ".py",
   "mimetype": "text/x-python",
   "name": "python",
   "nbconvert_exporter": "python",
   "pygments_lexer": "ipython3",
   "version": "3.13.5"
  }
 },
 "nbformat": 4,
 "nbformat_minor": 5
}
