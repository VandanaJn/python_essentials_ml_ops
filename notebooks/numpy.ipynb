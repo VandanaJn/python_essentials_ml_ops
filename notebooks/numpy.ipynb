{
 "cells": [
  {
   "cell_type": "code",
   "execution_count": null,
   "id": "991ad787",
   "metadata": {},
   "outputs": [],
   "source": [
    "import numpy as np\n",
    "arr=np.array([1,2,3,4,5,6])\n",
    "print(arr)\n",
    "arr1=arr.reshape(2,3)\n",
    "print(arr1)\n",
    "arr1.reshape(3,2)\n"
   ]
  },
  {
   "cell_type": "code",
   "execution_count": null,
   "id": "63b1e5b6",
   "metadata": {},
   "outputs": [],
   "source": [
    "a1=np.array([[1,2],[1,2],[1,2]])\n",
    "a1.shape"
   ]
  },
  {
   "cell_type": "code",
   "execution_count": null,
   "id": "f1f923f9",
   "metadata": {},
   "outputs": [],
   "source": [
    "np.random.rand(4,2)"
   ]
  },
  {
   "cell_type": "code",
   "execution_count": null,
   "id": "6d2d11e1",
   "metadata": {},
   "outputs": [],
   "source": [
    "np.full([2,3],\"1\")"
   ]
  },
  {
   "cell_type": "code",
   "execution_count": null,
   "id": "233d1bbc",
   "metadata": {},
   "outputs": [],
   "source": [
    "np.ones([1,2])\n",
    "np.ones_like([1,2])\n",
    "# np.zeros([1,2])"
   ]
  },
  {
   "cell_type": "code",
   "execution_count": null,
   "id": "053ff2f6",
   "metadata": {},
   "outputs": [],
   "source": [
    "np.arange(2,8,2)"
   ]
  },
  {
   "cell_type": "code",
   "execution_count": null,
   "id": "4181648a",
   "metadata": {},
   "outputs": [],
   "source": [
    "np.array([10,3,5])**2"
   ]
  },
  {
   "cell_type": "code",
   "execution_count": null,
   "id": "e0c2a780",
   "metadata": {},
   "outputs": [],
   "source": [
    "np.array([1,2,3,4,5,6,7,8]).reshape([2,4])"
   ]
  },
  {
   "cell_type": "code",
   "execution_count": null,
   "id": "1f0aabc4",
   "metadata": {},
   "outputs": [],
   "source": [
    "np.array([1,2,3,4,5,6,7,8]).reshape([2,4]).flatten()"
   ]
  },
  {
   "cell_type": "code",
   "execution_count": 42,
   "id": "333d45a1",
   "metadata": {},
   "outputs": [
    {
     "name": "stdout",
     "output_type": "stream",
     "text": [
      "5\n",
      "6\n"
     ]
    }
   ],
   "source": [
    "for i in np.array([5,6]):\n",
    "    print(i)"
   ]
  },
  {
   "cell_type": "code",
   "execution_count": null,
   "id": "1ee9ae90",
   "metadata": {},
   "outputs": [],
   "source": [
    "a2=np.ones((5,))\n",
    "print(a2.shape)\n",
    "a2=a2[np.newaxis,:]#same as None\n",
    "print(a2.shape)\n",
    "a2=a2[None,:]\n",
    "a2.shape\n"
   ]
  },
  {
   "cell_type": "code",
   "execution_count": 55,
   "id": "fe1391ae",
   "metadata": {},
   "outputs": [
    {
     "name": "stdout",
     "output_type": "stream",
     "text": [
      "[False False False  True  True]\n",
      "[False False False  True  True]\n"
     ]
    },
    {
     "data": {
      "text/plain": [
       "array([4, 5])"
      ]
     },
     "execution_count": 55,
     "metadata": {},
     "output_type": "execute_result"
    }
   ],
   "source": [
    "a3=np.array([1,2,3,4,5,])\n",
    "print(a3>3)\n",
    "a3=np.array((1,2,3,4,5,))\n",
    "print(a3>3)\n",
    "a3[a3>3]"
   ]
  },
  {
   "cell_type": "code",
   "execution_count": 57,
   "id": "0aa3717a",
   "metadata": {},
   "outputs": [
    {
     "data": {
      "text/plain": [
       "array([3, 4])"
      ]
     },
     "execution_count": 57,
     "metadata": {},
     "output_type": "execute_result"
    }
   ],
   "source": [
    "a4=np.array([1,2,3,4,5,6,7])\n",
    "a4[2:4]"
   ]
  },
  {
   "cell_type": "code",
   "execution_count": null,
   "id": "0fc95ba5",
   "metadata": {},
   "outputs": [
    {
     "data": {
      "text/plain": [
       "array([[1, 2, 3, 4, 1, 2, 3],\n",
       "       [4, 5, 6, 7, 4, 5, 6]])"
      ]
     },
     "execution_count": 64,
     "metadata": {},
     "output_type": "execute_result"
    }
   ],
   "source": [
    "first=np.array([[1,2,3,4],[4,5,6,7]])\n",
    "second=np.array([[1,2,3],[4,5,6]])\n",
    "np.hstack((first,second))#no of rows will be same as old array"
   ]
  },
  {
   "cell_type": "code",
   "execution_count": null,
   "id": "ff7e78e2",
   "metadata": {},
   "outputs": [
    {
     "data": {
      "text/plain": [
       "array([[1, 2, 3, 4],\n",
       "       [4, 5, 6, 7],\n",
       "       [1, 2, 3, 3],\n",
       "       [4, 5, 6, 3]])"
      ]
     },
     "execution_count": 62,
     "metadata": {},
     "output_type": "execute_result"
    }
   ],
   "source": [
    "first=np.array([[1,2,3,4],[4,5,6,7]])\n",
    "second=np.array([[1,2,3,3],[4,5,6,3]])\n",
    "np.vstack((first,second))#additional rows"
   ]
  },
  {
   "cell_type": "code",
   "execution_count": 72,
   "id": "6919a16b",
   "metadata": {},
   "outputs": [
    {
     "name": "stdout",
     "output_type": "stream",
     "text": [
      "[ 1  2  3  4  5  6  7  8  9 10]\n",
      "[array([1, 2, 3, 4, 5]), array([ 6,  7,  8,  9, 10])]\n",
      "[array([1, 2]), array([3, 4]), array([5, 6]), array([7, 8]), array([ 9, 10])]\n"
     ]
    }
   ],
   "source": [
    "arr=np.arange(1,11)\n",
    "print(arr)\n",
    "print(np.split(arr,2))\n",
    "print(np.split(arr,5))"
   ]
  },
  {
   "cell_type": "code",
   "execution_count": 77,
   "id": "828e018c",
   "metadata": {},
   "outputs": [
    {
     "data": {
      "text/plain": [
       "[array([[1],\n",
       "        [4]]),\n",
       " array([[2],\n",
       "        [5]]),\n",
       " array([[3],\n",
       "        [6]]),\n",
       " array([[2],\n",
       "        [6]])]"
      ]
     },
     "execution_count": 77,
     "metadata": {},
     "output_type": "execute_result"
    }
   ],
   "source": [
    "arr=np.array([[1,2,3,2],[4,5,6,6]])\n",
    "arr.shape\n",
    "np.split(arr,4,axis=1)"
   ]
  },
  {
   "cell_type": "code",
   "execution_count": 86,
   "id": "27d296b7",
   "metadata": {},
   "outputs": [
    {
     "name": "stdout",
     "output_type": "stream",
     "text": [
      "[ 1  2  3  4  5  6  7  8  9 10 11 12 13 14 15 16]\n",
      "(16,)\n"
     ]
    },
    {
     "data": {
      "text/plain": [
       "array([[ 1,  2,  3,  4,  5,  6,  7,  8],\n",
       "       [ 9, 10, 11, 12, 13, 14, 15, 16]])"
      ]
     },
     "execution_count": 86,
     "metadata": {},
     "output_type": "execute_result"
    }
   ],
   "source": [
    "arr=np.arange(1,17)\n",
    "print(arr)\n",
    "print(arr.shape)\n",
    "arr.reshape((2,8))"
   ]
  },
  {
   "cell_type": "code",
   "execution_count": 87,
   "id": "e07eae81",
   "metadata": {},
   "outputs": [
    {
     "name": "stdout",
     "output_type": "stream",
     "text": [
      "[1 2 3 4 5 6 7 8]\n",
      "[ 9 10 11 12 13 14 15 16]\n"
     ]
    }
   ],
   "source": [
    "arr=np.arange(1,17)\n",
    "a1=arr[0:8]\n",
    "print(a1)\n",
    "a2=arr[8:]\n",
    "print(a2)"
   ]
  },
  {
   "cell_type": "code",
   "execution_count": 94,
   "id": "86a2354e",
   "metadata": {},
   "outputs": [
    {
     "name": "stdout",
     "output_type": "stream",
     "text": [
      "[[1 2 3]\n",
      " [4 5 6]]\n",
      "[5 7 9]\n",
      "[ 6 15]\n",
      "[2. 5.]\n",
      "[2.5 3.5 4.5]\n"
     ]
    }
   ],
   "source": [
    "a1=np.array([1,2,3])\n",
    "a2=np.array([4,5,6])\n",
    "\n",
    "a3 = np.vstack((a1,a2))\n",
    "print(a3)\n",
    "print(np.sum(a3,axis=0))#sums columns\n",
    "print(np.sum(a3,axis=1))#sums rows\n",
    "print(np.mean(a3,axis=1))\n",
    "print(np.mean(a3,axis=0))"
   ]
  }
 ],
 "metadata": {
  "kernelspec": {
   "display_name": ".venv",
   "language": "python",
   "name": "python3"
  },
  "language_info": {
   "codemirror_mode": {
    "name": "ipython",
    "version": 3
   },
   "file_extension": ".py",
   "mimetype": "text/x-python",
   "name": "python",
   "nbconvert_exporter": "python",
   "pygments_lexer": "ipython3",
   "version": "3.13.5"
  }
 },
 "nbformat": 4,
 "nbformat_minor": 5
}
