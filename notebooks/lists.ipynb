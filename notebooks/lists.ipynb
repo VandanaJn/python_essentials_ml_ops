{
 "cells": [
  {
   "cell_type": "code",
   "execution_count": 1,
   "id": "486e860c",
   "metadata": {},
   "outputs": [
    {
     "name": "stdout",
     "output_type": "stream",
     "text": [
      "['c', 'd', 'e']\n",
      "['c', 'd', 'e']\n",
      "[]\n",
      "['c']\n",
      "['c', 'd']\n",
      "['e']\n",
      "['e', 'c']\n"
     ]
    }
   ],
   "source": [
    "items = [\"a\", \"b\", \"c\", \"d\", \"e\"]\n",
    "print(items[2:])\n",
    "print(items[2:10])\n",
    "print(items[2:2])\n",
    "print(items[2:3])\n",
    "print(items[2:4])\n",
    "print(items[-1:])\n",
    "print(items[-1:-4:-2])\n",
    "\n",
    "\n"
   ]
  },
  {
   "cell_type": "code",
   "execution_count": 2,
   "id": "7aeec190",
   "metadata": {},
   "outputs": [
    {
     "name": "stdout",
     "output_type": "stream",
     "text": [
      "[1, 3, 6, 'a', 'b', 'c', 'd', 'e']\n"
     ]
    }
   ],
   "source": [
    "list1 = [1, 3, 6]\n",
    "list1.extend(items)\n",
    "print(list1)\n"
   ]
  },
  {
   "cell_type": "code",
   "execution_count": 3,
   "id": "75ec1306",
   "metadata": {},
   "outputs": [
    {
     "name": "stdout",
     "output_type": "stream",
     "text": [
      "['armbar triangle', 'armbar kimura', 'armbar guillotine', 'triangle armbar', 'triangle kimura', 'triangle guillotine', 'kimura armbar', 'kimura triangle', 'kimura guillotine', 'guillotine armbar', 'guillotine triangle', 'guillotine kimura']\n"
     ]
    }
   ],
   "source": [
    "submissions = [\"armbar\", \"triangle\", \"kimura\", \"guillotine\"]\n",
    "combos = [f\"{a} {b}\" for a in submissions for b in submissions if a != b]\n",
    "print(combos)"
   ]
  }
 ],
 "metadata": {
  "kernelspec": {
   "display_name": ".venv",
   "language": "python",
   "name": "python3"
  },
  "language_info": {
   "codemirror_mode": {
    "name": "ipython",
    "version": 3
   },
   "file_extension": ".py",
   "mimetype": "text/x-python",
   "name": "python",
   "nbconvert_exporter": "python",
   "pygments_lexer": "ipython3",
   "version": "3.13.5"
  }
 },
 "nbformat": 4,
 "nbformat_minor": 5
}
