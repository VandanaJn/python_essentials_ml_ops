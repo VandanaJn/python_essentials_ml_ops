{
 "cells": [
  {
   "cell_type": "code",
   "execution_count": 1,
   "id": "9f9d8185",
   "metadata": {},
   "outputs": [
    {
     "name": "stdout",
     "output_type": "stream",
     "text": [
      "{'a', 'c'}\n"
     ]
    }
   ],
   "source": [
    "set1 = {\"a\", \"b\", \"c\"}\n",
    "set2 = {\"a\", \"c\", \"d\"}\n",
    "print(set1.intersection(set2))\n"
   ]
  },
  {
   "cell_type": "code",
   "execution_count": 2,
   "id": "57ace3d3",
   "metadata": {},
   "outputs": [
    {
     "name": "stdout",
     "output_type": "stream",
     "text": [
      "{'b'}\n"
     ]
    }
   ],
   "source": [
    "print(set1.difference(set2))  # in set1 but not in set2\n"
   ]
  },
  {
   "cell_type": "code",
   "execution_count": 3,
   "id": "934b760c",
   "metadata": {},
   "outputs": [
    {
     "name": "stdout",
     "output_type": "stream",
     "text": [
      "{'b', 'd'}\n"
     ]
    }
   ],
   "source": [
    "print(set1.symmetric_difference(set2))  # in set1 but not in set2, in set2 not in set1\n"
   ]
  },
  {
   "cell_type": "code",
   "execution_count": 4,
   "id": "9bfe44fe",
   "metadata": {},
   "outputs": [
    {
     "name": "stdout",
     "output_type": "stream",
     "text": [
      "{'a', 'b', 'c'}\n",
      "None\n",
      "{'b'}\n"
     ]
    }
   ],
   "source": [
    "print(set1)\n",
    "print(\n",
    "    set1.difference_update(set2)\n",
    ")  # update set1 with items found in other, does not return\n",
    "print(set1)\n"
   ]
  },
  {
   "cell_type": "code",
   "execution_count": 5,
   "id": "93526589",
   "metadata": {},
   "outputs": [
    {
     "name": "stdout",
     "output_type": "stream",
     "text": [
      "None\n",
      "{'d', 'b'}\n",
      "{'c', 'a', 'd'}\n"
     ]
    }
   ],
   "source": [
    "set1 = {\"a\", \"b\", \"c\"}\n",
    "set2 = {\"a\", \"c\", \"d\"}\n",
    "print(\n",
    "    set1.symmetric_difference_update(set2)\n",
    ")  # update set1 found with iems found in either not in both\n",
    "print(set1)\n",
    "print(set2)\n",
    "\n"
   ]
  },
  {
   "cell_type": "code",
   "execution_count": 6,
   "id": "e0ce7fc8",
   "metadata": {},
   "outputs": [
    {
     "name": "stdout",
     "output_type": "stream",
     "text": [
      "{'1', '2'}\n"
     ]
    }
   ],
   "source": [
    "list1 = [\"1\", \"2\", \"2\", \"1\"]\n",
    "set3 = set(list1)\n",
    "print(set3)"
   ]
  }
 ],
 "metadata": {
  "kernelspec": {
   "display_name": ".venv",
   "language": "python",
   "name": "python3"
  },
  "language_info": {
   "codemirror_mode": {
    "name": "ipython",
    "version": 3
   },
   "file_extension": ".py",
   "mimetype": "text/x-python",
   "name": "python",
   "nbconvert_exporter": "python",
   "pygments_lexer": "ipython3",
   "version": "3.13.5"
  }
 },
 "nbformat": 4,
 "nbformat_minor": 5
}
