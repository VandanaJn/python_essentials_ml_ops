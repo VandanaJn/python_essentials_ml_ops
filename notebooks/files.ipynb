{
 "cells": [
  {
   "cell_type": "code",
   "execution_count": 4,
   "id": "39ac472f",
   "metadata": {},
   "outputs": [
    {
     "name": "stdout",
     "output_type": "stream",
     "text": [
      "\n",
      "this is a new line\n",
      "this is a new line\n",
      "appended\n",
      "this is a new line\n",
      "this is a new line\n",
      "appended\n",
      "this is a new line\n",
      "this is a new line\n"
     ]
    }
   ],
   "source": [
    "try:\n",
    "    with open(\"sample1.txt\", \"a+\", encoding=\"utf-8\") as file:\n",
    "        file.writelines([\"\\nthis is a new line\", \"\\nthis is a new line\"])\n",
    "        file.seek(0)\n",
    "        print(file.read())\n",
    "        file.writelines(\"\\nappended\")\n",
    "except PermissionError:\n",
    "    print(\"permission issue\")\n",
    "except IsADirectoryError:\n",
    "    print(\"specifies path a directory\")\n",
    "except OSError as e:\n",
    "    print(f\"an os error occoured: {e} \")"
   ]
  },
  {
   "cell_type": "code",
   "execution_count": 5,
   "id": "8daf6435",
   "metadata": {},
   "outputs": [
    {
     "name": "stdout",
     "output_type": "stream",
     "text": [
      "Path: c:\\python_essentials_ml_ops\\notebooks\\decorators.ipynb, size: 0\n",
      "Path: c:\\python_essentials_ml_ops\\notebooks\\sample1.txt, size: 150\n",
      "Path: c:\\python_essentials_ml_ops\\notebooks\\lists.ipynb, size: 2087\n",
      "Path: c:\\python_essentials_ml_ops\\notebooks\\tuples.ipynb, size: 2293\n",
      "Path: c:\\python_essentials_ml_ops\\notebooks\\sets.ipynb, size: 2801\n",
      "Path: c:\\python_essentials_ml_ops\\notebooks\\files.ipynb, size: 3322\n",
      "Path: c:\\python_essentials_ml_ops\\notebooks\\classes.ipynb, size: 6808\n",
      "Path: c:\\python_essentials_ml_ops\\notebooks\\sales.ipynb, size: 6964\n",
      "Path: c:\\python_essentials_ml_ops\\notebooks\\numpy.ipynb, size: 7701\n",
      "Path: c:\\python_essentials_ml_ops\\notebooks\\dataframes.ipynb, size: 7945\n"
     ]
    }
   ],
   "source": [
    "#filesize sorting \n",
    "import os\n",
    "from os.path import abspath, join, getsize\n",
    "\n",
    "sizes = {}\n",
    "for top_dir, directories, files in os.walk(\".\"):\n",
    "    for _file in files:\n",
    "        full_path = abspath(join(top_dir, _file))\n",
    "        size = getsize(full_path)\n",
    "        sizes[full_path] = size\n",
    "sorted_results = sorted(sizes.keys(), key=lambda k: sizes[k], reverse=False)\n",
    "for path in sorted_results[:10]:\n",
    "    print(\"Path: {0}, size: {1}\".format(path, sizes[path]))\n"
   ]
  }
 ],
 "metadata": {
  "kernelspec": {
   "display_name": ".venv",
   "language": "python",
   "name": "python3"
  },
  "language_info": {
   "codemirror_mode": {
    "name": "ipython",
    "version": 3
   },
   "file_extension": ".py",
   "mimetype": "text/x-python",
   "name": "python",
   "nbconvert_exporter": "python",
   "pygments_lexer": "ipython3",
   "version": "3.13.5"
  }
 },
 "nbformat": 4,
 "nbformat_minor": 5
}
