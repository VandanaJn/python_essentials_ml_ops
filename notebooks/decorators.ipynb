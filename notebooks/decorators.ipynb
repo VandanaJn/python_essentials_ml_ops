{
 "cells": [
  {
   "cell_type": "code",
   "execution_count": 1,
   "id": "71c308ce",
   "metadata": {},
   "outputs": [
    {
     "name": "stdout",
     "output_type": "stream",
     "text": [
      "['tomatoes', 'onions']\n"
     ]
    }
   ],
   "source": [
    "from time import sleep\n",
    "\n",
    "\n",
    "def find(key):\n",
    "    items = {\"1\": \"tomatoes\", \"2\": \"potatoes\", \"3\": \"onions\", \"4\": \"cabbage\"}\n",
    "    return items.get(key)\n",
    "\n",
    "\n",
    "def findall(find_func):\n",
    "    keys = [\"1\", \"3\", \"7\"]\n",
    "    return [find_func(it) for it in keys if find_func(it) is not None]\n",
    "\n",
    "\n",
    "print(findall(find_func=find))\n",
    "\n"
   ]
  },
  {
   "cell_type": "code",
   "execution_count": 2,
   "id": "4ed6f55e",
   "metadata": {},
   "outputs": [
    {
     "name": "stdout",
     "output_type": "stream",
     "text": [
      "7\n"
     ]
    }
   ],
   "source": [
    "# Closures are functions that contain other nested functions with state from outer function.\n",
    "def outer(n1):\n",
    "    def inner(n2):\n",
    "        return n1 + n2\n",
    "\n",
    "    return inner\n",
    "\n",
    "\n",
    "add_2 = outer(2)\n",
    "print(add_2(5))\n",
    "\n",
    "\n"
   ]
  },
  {
   "cell_type": "code",
   "execution_count": 3,
   "id": "c564344f",
   "metadata": {},
   "outputs": [
    {
     "name": "stdout",
     "output_type": "stream",
     "text": [
      "dummy took 1.0006427764892578 sec\n",
      "dummy\n"
     ]
    }
   ],
   "source": [
    "def timed(func):\n",
    "    from functools import wraps\n",
    "\n",
    "    @wraps(func)\n",
    "    def wrapper(*args, **kargs):\n",
    "        import time\n",
    "\n",
    "        start = time.time()\n",
    "        func(*args, **kargs)\n",
    "        end = time.time()\n",
    "        print(f\"{func.__name__} took {end-start} sec\")\n",
    "\n",
    "    return wrapper\n",
    "\n",
    "\n",
    "@timed\n",
    "def dummy(sec):\n",
    "    sleep(sec)\n",
    "\n",
    "\n",
    "dummy(1)\n",
    "print(dummy.__name__)\n",
    "\n",
    "\n"
   ]
  },
  {
   "cell_type": "code",
   "execution_count": 4,
   "id": "f4928a1c",
   "metadata": {},
   "outputs": [
    {
     "name": "stdout",
     "output_type": "stream",
     "text": [
      "Alice\n",
      "Hello Alice\n",
      "name->John\n",
      "Hello John\n"
     ]
    }
   ],
   "source": [
    "def log_args(func):\n",
    "    from functools import wraps\n",
    "\n",
    "    @wraps(func)\n",
    "    def wrapper(*args, **kargs):\n",
    "        for arg in args:\n",
    "            print(arg)\n",
    "        for key, value in kargs.items():\n",
    "            print(f\"{key}->{value}\")\n",
    "        func(*args, **kargs)\n",
    "\n",
    "    return wrapper\n",
    "\n",
    "\n",
    "@log_args\n",
    "def say_hello(name):\n",
    "    print(f\"Hello {name}\")\n",
    "\n",
    "\n",
    "say_hello(\"Alice\")\n",
    "say_hello(name=\"John\")\n",
    "\n",
    "\n"
   ]
  },
  {
   "cell_type": "code",
   "execution_count": 5,
   "id": "8c7580cd",
   "metadata": {},
   "outputs": [
    {
     "name": "stdout",
     "output_type": "stream",
     "text": [
      "[INFO] user_logged in\n",
      "[ERROR] something went wrong\n",
      "[INFO] in progress\n",
      "[ERROR] try again\n",
      "[INFO] still in progress\n"
     ]
    }
   ],
   "source": [
    "def log(level, message):\n",
    "    print(f\"[{level.upper()}] {message}\")\n",
    "\n",
    "\n",
    "log(\"Info\", \"user_logged in\")\n",
    "log(\"Error\", \"something went wrong\")\n",
    "from functools import partial\n",
    "\n",
    "log_info = partial(log, level=\"Info\")\n",
    "log_error = partial(log, \"Error\")\n",
    "log_info(message=\"in progress\")\n",
    "log_error(\"try again\")\n",
    "\n",
    "\n",
    "def log_with_currying(level):\n",
    "    def log_message(message):\n",
    "        print(f\"[{level.upper()}] {message}\")\n",
    "\n",
    "    return log_message\n",
    "\n",
    "\n",
    "log_info_new = log_with_currying(\"info\")\n",
    "log_info_new(\"still in progress\")\n",
    "\n",
    "\n"
   ]
  },
  {
   "cell_type": "code",
   "execution_count": 6,
   "id": "d0c5d9f4",
   "metadata": {},
   "outputs": [
    {
     "name": "stdout",
     "output_type": "stream",
     "text": [
      "11\n",
      "6\n"
     ]
    }
   ],
   "source": [
    "def find_max(*nums):\n",
    "    return max(nums)\n",
    "\n",
    "\n",
    "print(find_max(*[6, 2, 9, 11, 7]))\n",
    "print(find_max(6, 4, 3))"
   ]
  }
 ],
 "metadata": {
  "kernelspec": {
   "display_name": ".venv",
   "language": "python",
   "name": "python3"
  },
  "language_info": {
   "codemirror_mode": {
    "name": "ipython",
    "version": 3
   },
   "file_extension": ".py",
   "mimetype": "text/x-python",
   "name": "python",
   "nbconvert_exporter": "python",
   "pygments_lexer": "ipython3",
   "version": "3.13.5"
  }
 },
 "nbformat": 4,
 "nbformat_minor": 5
}
